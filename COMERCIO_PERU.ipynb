{
 "cells": [
  {
   "cell_type": "code",
   "execution_count": 33,
   "metadata": {},
   "outputs": [],
   "source": [
    "from urllib.request import urlopen"
   ]
  },
  {
   "cell_type": "code",
   "execution_count": 34,
   "metadata": {},
   "outputs": [],
   "source": [
    "from urllib.error import HTTPError"
   ]
  },
  {
   "cell_type": "code",
   "execution_count": 35,
   "metadata": {},
   "outputs": [],
   "source": [
    "from bs4 import BeautifulSoup"
   ]
  },
  {
   "cell_type": "code",
   "execution_count": 36,
   "metadata": {},
   "outputs": [
    {
     "name": "stdout",
     "output_type": "stream",
     "text": [
      "<title>Noticias del Perú y el Mundo | Coronavirus Perú | Covid-19 | Martín Vizcarra | AFP | CTS | Bono 280 | OMS | USA | Donald Trump | Ecuador | España | Italia | Venezuela | Champions | Odebrecht | Alejandro Toledo | Keiko Fujimori | Estados Unidos | Sunedu | #EstoyAlerta | #Notepases | Cristiano Ronaldo | Lionel Messi | Real Madrid | Barcelona | Horoscopo | Netflix | Facebook | Instagram | YouTube | WhatsApp | El Comercio Perú</title>\n"
     ]
    }
   ],
   "source": [
    "try:\n",
    "\n",
    "    html = urlopen(\"https://elcomercio.pe/?ref=ecr\")\n",
    "    \n",
    "except HTTPError as e:\n",
    "\n",
    "    print(e)\n",
    "\n",
    "else:\n",
    "\n",
    "    res = BeautifulSoup(html.read(),\"html\")\n",
    "\n",
    "    print(res.title)"
   ]
  },
  {
   "cell_type": "code",
   "execution_count": 37,
   "metadata": {},
   "outputs": [],
   "source": [
    "tags = res.findAll(\"h2\", {\"class\": \"triplet__title overflow-hidden text-lg line-h-sm triplet--threeline\"})"
   ]
  },
  {
   "cell_type": "code",
   "execution_count": 38,
   "metadata": {},
   "outputs": [],
   "source": [
    "from urllib.request import urlopen\n",
    "\n",
    "from urllib.error import HTTPError\n",
    "\n",
    "from urllib.error import URLError\n",
    "\n",
    "from bs4 import BeautifulSoup\n",
    "\n",
    "try:\n",
    "\n",
    "    html = urlopen(\"https://elcomercio.pe/?ref=ecr\")\n",
    "\n",
    "except HTTPError as e:\n",
    "\n",
    "    print(e)\n",
    "\n",
    "except URLError:\n",
    "\n",
    "    print(\"Server down or incorrect domain\")\n",
    "\n",
    "else:\n",
    "\n",
    "    res = BeautifulSoup(html.read(),\"html\")\n",
    "\n",
    "    tags = res.findAll(\"h2\", {\"class\": \"triplet__title overflow-hidden text-lg line-h-sm triplet--threeline\"})"
   ]
  },
  {
   "cell_type": "code",
   "execution_count": 39,
   "metadata": {},
   "outputs": [
    {
     "name": "stdout",
     "output_type": "stream",
     "text": [
      "Coronavirus en Perú: Martín Vizcarra ofrecerá pronunciamiento en el día 65 de la cuarentena\n",
      "Midis: mañana empieza a pagarse el Bono Universal Familiar de S/. 760\n",
      "Intervienen municipio de SJM por presuntas irregularidades en la adquisición de canastas\n",
      "\"Fallecían personas a mi alrededor\": el periodista de Iquitos que sobrevivió al COVID-19\n",
      "César San Martín al Congreso: \"Los presos no son redituables políticamente\"\n",
      "Así fue el primer día de la salida de niños durante la pandemia tras restricciones\n",
      "Un laboratorio chino cree poder detener la pandemia sin una vacuna\n",
      "La OMS será investigada por su respuesta ante la pandemia de COVID-19 \n",
      "Juliana Oxenford anuncia que será mamá por segunda vez: \"María tendrá un hermanito\"\n",
      "COVID-19: China dona 10 ventiladores mecánicos para atender a pacientes graves\n",
      "Alcalde de Miraflores logró vencer al COVID-19 tras infectarse en actividades de su gestión\n",
      "Scotiabank prevé una caída de 30% del PBI en abril, a raíz de la crisis por el COVID-19\n",
      "Venezuela: ¿a cuánto se cotiza el dólar, HOY martes 19 de mayo de 2020?\n",
      "Horóscopo: las predicciones más acertadas para tu signo zodiacal, hoy martes 19 de mayo del 2020\n",
      "Lima tendrá llovizna ligera y una temperatura máxima de 22°C, hoy martes 19 de mayo\n"
     ]
    }
   ],
   "source": [
    "for tag in tags:\n",
    "\n",
    "        print(tag.getText())"
   ]
  },
  {
   "cell_type": "code",
   "execution_count": 40,
   "metadata": {},
   "outputs": [],
   "source": [
    "import pandas as pd"
   ]
  },
  {
   "cell_type": "code",
   "execution_count": 41,
   "metadata": {},
   "outputs": [
    {
     "data": {
      "text/html": [
       "<div>\n",
       "<style scoped>\n",
       "    .dataframe tbody tr th:only-of-type {\n",
       "        vertical-align: middle;\n",
       "    }\n",
       "\n",
       "    .dataframe tbody tr th {\n",
       "        vertical-align: top;\n",
       "    }\n",
       "\n",
       "    .dataframe thead th {\n",
       "        text-align: right;\n",
       "    }\n",
       "</style>\n",
       "<table border=\"1\" class=\"dataframe\">\n",
       "  <thead>\n",
       "    <tr style=\"text-align: right;\">\n",
       "      <th></th>\n",
       "      <th>noticias</th>\n",
       "    </tr>\n",
       "  </thead>\n",
       "  <tbody>\n",
       "    <tr>\n",
       "      <th>0</th>\n",
       "      <td>[[Coronavirus en Perú: Martín Vizcarra ofrecer...</td>\n",
       "    </tr>\n",
       "    <tr>\n",
       "      <th>1</th>\n",
       "      <td>[[Midis: mañana empieza a pagarse el Bono Univ...</td>\n",
       "    </tr>\n",
       "    <tr>\n",
       "      <th>2</th>\n",
       "      <td>[[Intervienen municipio de SJM por presuntas i...</td>\n",
       "    </tr>\n",
       "    <tr>\n",
       "      <th>3</th>\n",
       "      <td>[[\"Fallecían personas a mi alrededor\": el peri...</td>\n",
       "    </tr>\n",
       "    <tr>\n",
       "      <th>4</th>\n",
       "      <td>[[César San Martín al Congreso: \"Los presos no...</td>\n",
       "    </tr>\n",
       "    <tr>\n",
       "      <th>5</th>\n",
       "      <td>[[Así fue el primer día de la salida de niños ...</td>\n",
       "    </tr>\n",
       "    <tr>\n",
       "      <th>6</th>\n",
       "      <td>[[Un laboratorio chino cree poder detener la p...</td>\n",
       "    </tr>\n",
       "    <tr>\n",
       "      <th>7</th>\n",
       "      <td>[[La OMS será investigada por su respuesta ant...</td>\n",
       "    </tr>\n",
       "    <tr>\n",
       "      <th>8</th>\n",
       "      <td>[[Juliana Oxenford anuncia que será mamá por s...</td>\n",
       "    </tr>\n",
       "    <tr>\n",
       "      <th>9</th>\n",
       "      <td>[[COVID-19: China dona 10 ventiladores mecánic...</td>\n",
       "    </tr>\n",
       "    <tr>\n",
       "      <th>10</th>\n",
       "      <td>[[Alcalde de Miraflores logró vencer al COVID-...</td>\n",
       "    </tr>\n",
       "    <tr>\n",
       "      <th>11</th>\n",
       "      <td>[[Scotiabank prevé una caída de 30% del PBI en...</td>\n",
       "    </tr>\n",
       "    <tr>\n",
       "      <th>12</th>\n",
       "      <td>[[Venezuela: ¿a cuánto se cotiza el dólar, HOY...</td>\n",
       "    </tr>\n",
       "    <tr>\n",
       "      <th>13</th>\n",
       "      <td>[[Horóscopo: las predicciones más acertadas pa...</td>\n",
       "    </tr>\n",
       "    <tr>\n",
       "      <th>14</th>\n",
       "      <td>[[Lima tendrá llovizna ligera y una temperatur...</td>\n",
       "    </tr>\n",
       "  </tbody>\n",
       "</table>\n",
       "</div>"
      ],
      "text/plain": [
       "                                             noticias\n",
       "0   [[Coronavirus en Perú: Martín Vizcarra ofrecer...\n",
       "1   [[Midis: mañana empieza a pagarse el Bono Univ...\n",
       "2   [[Intervienen municipio de SJM por presuntas i...\n",
       "3   [[\"Fallecían personas a mi alrededor\": el peri...\n",
       "4   [[César San Martín al Congreso: \"Los presos no...\n",
       "5   [[Así fue el primer día de la salida de niños ...\n",
       "6   [[Un laboratorio chino cree poder detener la p...\n",
       "7   [[La OMS será investigada por su respuesta ant...\n",
       "8   [[Juliana Oxenford anuncia que será mamá por s...\n",
       "9   [[COVID-19: China dona 10 ventiladores mecánic...\n",
       "10  [[Alcalde de Miraflores logró vencer al COVID-...\n",
       "11  [[Scotiabank prevé una caída de 30% del PBI en...\n",
       "12  [[Venezuela: ¿a cuánto se cotiza el dólar, HOY...\n",
       "13  [[Horóscopo: las predicciones más acertadas pa...\n",
       "14  [[Lima tendrá llovizna ligera y una temperatur..."
      ]
     },
     "execution_count": 41,
     "metadata": {},
     "output_type": "execute_result"
    }
   ],
   "source": [
    "weather = pd.DataFrame({\n",
    "    \"noticias\": tags,\n",
    "   \n",
    "})\n",
    "weather"
   ]
  }
 ],
 "metadata": {
  "kernelspec": {
   "display_name": "Python 3",
   "language": "python",
   "name": "python3"
  },
  "language_info": {
   "codemirror_mode": {
    "name": "ipython",
    "version": 3
   },
   "file_extension": ".py",
   "mimetype": "text/x-python",
   "name": "python",
   "nbconvert_exporter": "python",
   "pygments_lexer": "ipython3",
   "version": "3.8.1"
  }
 },
 "nbformat": 4,
 "nbformat_minor": 2
}
