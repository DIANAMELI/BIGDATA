{
 "cells": [
  {
   "cell_type": "code",
   "execution_count": 34,
   "metadata": {},
   "outputs": [],
   "source": [
    "from urllib.request import urlopen\n"
   ]
  },
  {
   "cell_type": "code",
   "execution_count": 35,
   "metadata": {},
   "outputs": [],
   "source": [
    "from urllib.error import HTTPError\n"
   ]
  },
  {
   "cell_type": "code",
   "execution_count": 36,
   "metadata": {},
   "outputs": [],
   "source": [
    "from bs4 import BeautifulSoup\n"
   ]
  },
  {
   "cell_type": "code",
   "execution_count": 45,
   "metadata": {},
   "outputs": [
    {
     "name": "stdout",
     "output_type": "stream",
     "text": [
      "<title>El Diario de Yucatán - Noticias de hoy en Yucatán, el Sureste, México y el mundo</title>\n"
     ]
    }
   ],
   "source": [
    "try:\n",
    "\n",
    "    html = urlopen(\"https://www.yucatan.com.mx/\")\n",
    "    \n",
    "except HTTPError as e:\n",
    "\n",
    "    print(e)\n",
    "\n",
    "else:\n",
    "\n",
    "    res = BeautifulSoup(html.read(),\"html\")\n",
    "\n",
    "    print(res.title)"
   ]
  },
  {
   "cell_type": "code",
   "execution_count": 57,
   "metadata": {},
   "outputs": [],
   "source": [
    "tags = res.findAll(\"h2\", {\"class\": \"g1-gamma g1-gamma-1st entry-title\"})\n"
   ]
  },
  {
   "cell_type": "code",
   "execution_count": 64,
   "metadata": {},
   "outputs": [],
   "source": [
    "from urllib.request import urlopen\n",
    "\n",
    "from urllib.error import HTTPError\n",
    "\n",
    "from urllib.error import URLError\n",
    "\n",
    "from bs4 import BeautifulSoup\n",
    "\n",
    "try:\n",
    "\n",
    "    html = urlopen(\"https://www.yucatan.com.mx/\")\n",
    "\n",
    "except HTTPError as e:\n",
    "\n",
    "    print(e)\n",
    "\n",
    "except URLError:\n",
    "\n",
    "    print(\"Server down or incorrect domain\")\n",
    "\n",
    "else:\n",
    "\n",
    "    res = BeautifulSoup(html.read(),\"html\")\n",
    "\n",
    "    tags = res.findAll(\"h2\", {\"class\": \"g1-gamma g1-gamma-1st entry-title\"})\n",
    "\n",
    "    \n"
   ]
  },
  {
   "cell_type": "code",
   "execution_count": 65,
   "metadata": {},
   "outputs": [
    {
     "name": "stdout",
     "output_type": "stream",
     "text": [
      "Polémicas frases revelan a AMLO frente al Covid-19\n",
      "Fallece a las puertas de hospital de Tekax por envenenamiento\n",
      "Brasil decreta tres días de luto por más de 10 mil decesos\n",
      "Fallecen por intoxicación tras beber alcohol adulterado en Acanceh\n",
      "Fallece a los 100 años \"Don Libo\", el creador de las piedras\n",
      "Paciente con Covid-19 pide alta voluntaria y luego fallece\n",
      "Brasil decreta tres días de luto por más de 10 mil decesos\n",
      "Mapas de la “Ruta de la Salud”, trasporte gratuito para el personal médico\n",
      "Polémicas frases revelan a AMLO frente al Covid-19\n",
      "Paciente con Covid-19 pide alta voluntaria y luego fallece\n",
      "Quintana Roo, con 39 nuevos casos y 9 muertes por  Covid-19\n",
      "El impacto económico del Covid-19 afecta más a las mujeres\n",
      "Mapas de la “Ruta de la Salud”, trasporte gratuito para el personal médico\n",
      "Largas filas en  supermercado de Mérida por el Día de la Madre\n",
      "Legisladores federales del PRI solicitan no hacer proselitismo con apoyos\n",
      "Elevada movilidad\n",
      "No es aval en créditos\n",
      "Menos gasto este año en los regalos del Día de la Madre\n",
      "Fallecen por intoxicación tras beber alcohol adulterado en Acanceh\n",
      "Expertos niegan presencia del avispón asiático en Yucatán\n",
      "Fallece a las puertas de hospital de Tekax por envenenamiento\n",
      "Detienen en Peto a un sujeto por dos robo en complicidad\n",
      "Por agredir a su mamá, adolescente acuchilla a su papá en Umán\n",
      "Detienen a dos cazadores furtivos de venados\n",
      "Largas filas en  supermercado de Mérida por el Día de la Madre\n",
      "El mago Roy Horn, del dueto Siegfried & Roy, fallece por coronavirus\n",
      "Vídeo de tortuga en Yucatán ya tiene remix, stickers y hasta playeras\n",
      "Revelan  audio entre Karla Luna  y Karla Panini: \"Destruiste mi matrimonio\"\n",
      "Tromba en Apodaca deja dos muertos y cuantiosos daños\n",
      "López-Gatell responde al NYT: niega que se oculten cifras\n",
      "Polémicas frases revelan a AMLO frente al Covid-19\n",
      "Paciente con Covid-19 pide alta voluntaria y luego fallece\n",
      "Quintana Roo, con 39 nuevos casos y 9 muertes por  Covid-19\n",
      "El impacto económico del Covid-19 afecta más a las mujeres\n",
      "Permiten realizar pesca para consumo doméstico en Quintana Roo\n",
      "Fallece el primer médico por Covid-19 en Oaxaca\n",
      "Erik Rubín, ¿infiel?: así invitó a salir a Thalía con un Tik Tok\n",
      "Kimberly Loaiza se disculpa con Kenia Os: \"Juan es el de los negocios\"\n",
      "Paulina Rubio gana una demanda a su exesposo\n",
      "Revelan  audio entre Karla Luna  y Karla Panini: \"Destruiste mi matrimonio\"\n",
      "Muere Little Richard, pionero del rock and roll\n",
      "Natalia Lafourcade,  en vivo desde su cocina con \"Un canto por México\"\n",
      "Fallece a los 100 años \"Don Libo\", el creador de las piedras\n",
      "Cruz Azul rompe su mala racha; gana primer partido de la eLiga MX\n",
      "Amir Kahn se niega a pelear sin público: sería como un entrenamiento\n",
      "La leyenda de la pértiga\n",
      "La NBA ya dio el primer paso\n",
      "Adiós a un grande de Argentina: “Trinche”\n",
      "Las mamás, con sobrecarga de trabajo por el Covid-19\n",
      "Un festejo diferente\n",
      "Usarían pipí en la Luna\n",
      "Nuevo complemento\n",
      "Portugal reactiva economía\n",
      "Ayuntamiento ofrece serenata\n",
      "Brasil decreta tres días de luto por más de 10 mil decesos\n",
      "Italia baja la cifra de víctimas por Covid-19\n",
      "“El Chino Ántrax”, exsicario del cártel de Sinaloa, se fugó en EE.UU.\n",
      "Llama a eliminar el odio\n",
      "Religiosos minimizan la crisis\n",
      "Oposición denuncia  “genocidio virósico”\n",
      "Cartón de Tony: Estilo personal de gobernar\n",
      "Cartón de Tony: De espaldas a las críticas\n",
      "Casa de la Virgen María\n",
      "Urgen nuevos líderes\n",
      "Paraíso delictivo por deficiencias en la Fiscalía\n",
      "No será fácil salir\n"
     ]
    }
   ],
   "source": [
    "for tag in tags:\n",
    "\n",
    "        print(tag.getText())\n"
   ]
  },
  {
   "cell_type": "code",
   "execution_count": 60,
   "metadata": {},
   "outputs": [],
   "source": [
    "import pandas as pd"
   ]
  },
  {
   "cell_type": "code",
   "execution_count": 66,
   "metadata": {},
   "outputs": [
    {
     "data": {
      "text/html": [
       "<div>\n",
       "<style scoped>\n",
       "    .dataframe tbody tr th:only-of-type {\n",
       "        vertical-align: middle;\n",
       "    }\n",
       "\n",
       "    .dataframe tbody tr th {\n",
       "        vertical-align: top;\n",
       "    }\n",
       "\n",
       "    .dataframe thead th {\n",
       "        text-align: right;\n",
       "    }\n",
       "</style>\n",
       "<table border=\"1\" class=\"dataframe\">\n",
       "  <thead>\n",
       "    <tr style=\"text-align: right;\">\n",
       "      <th></th>\n",
       "      <th>noticias</th>\n",
       "    </tr>\n",
       "  </thead>\n",
       "  <tbody>\n",
       "    <tr>\n",
       "      <th>0</th>\n",
       "      <td>[[Polémicas frases revelan a AMLO frente al Co...</td>\n",
       "    </tr>\n",
       "    <tr>\n",
       "      <th>1</th>\n",
       "      <td>[[Fallece a las puertas de hospital de Tekax p...</td>\n",
       "    </tr>\n",
       "    <tr>\n",
       "      <th>2</th>\n",
       "      <td>[[Brasil decreta tres días de luto por más de ...</td>\n",
       "    </tr>\n",
       "    <tr>\n",
       "      <th>3</th>\n",
       "      <td>[[Fallecen por intoxicación tras beber alcohol...</td>\n",
       "    </tr>\n",
       "    <tr>\n",
       "      <th>4</th>\n",
       "      <td>[[Fallece a los 100 años \"Don Libo\", el creado...</td>\n",
       "    </tr>\n",
       "    <tr>\n",
       "      <th>...</th>\n",
       "      <td>...</td>\n",
       "    </tr>\n",
       "    <tr>\n",
       "      <th>61</th>\n",
       "      <td>[[Cartón de Tony: De espaldas a las críticas]]</td>\n",
       "    </tr>\n",
       "    <tr>\n",
       "      <th>62</th>\n",
       "      <td>[[Casa de la Virgen María]]</td>\n",
       "    </tr>\n",
       "    <tr>\n",
       "      <th>63</th>\n",
       "      <td>[[Urgen nuevos líderes]]</td>\n",
       "    </tr>\n",
       "    <tr>\n",
       "      <th>64</th>\n",
       "      <td>[[Paraíso delictivo por deficiencias en la Fis...</td>\n",
       "    </tr>\n",
       "    <tr>\n",
       "      <th>65</th>\n",
       "      <td>[[No será fácil salir]]</td>\n",
       "    </tr>\n",
       "  </tbody>\n",
       "</table>\n",
       "<p>66 rows × 1 columns</p>\n",
       "</div>"
      ],
      "text/plain": [
       "                                             noticias\n",
       "0   [[Polémicas frases revelan a AMLO frente al Co...\n",
       "1   [[Fallece a las puertas de hospital de Tekax p...\n",
       "2   [[Brasil decreta tres días de luto por más de ...\n",
       "3   [[Fallecen por intoxicación tras beber alcohol...\n",
       "4   [[Fallece a los 100 años \"Don Libo\", el creado...\n",
       "..                                                ...\n",
       "61     [[Cartón de Tony: De espaldas a las críticas]]\n",
       "62                        [[Casa de la Virgen María]]\n",
       "63                           [[Urgen nuevos líderes]]\n",
       "64  [[Paraíso delictivo por deficiencias en la Fis...\n",
       "65                            [[No será fácil salir]]\n",
       "\n",
       "[66 rows x 1 columns]"
      ]
     },
     "execution_count": 66,
     "metadata": {},
     "output_type": "execute_result"
    }
   ],
   "source": [
    "weather = pd.DataFrame({\n",
    "    \"noticias\": tags,\n",
    "   \n",
    "})\n",
    "weather"
   ]
  },
  {
   "cell_type": "code",
   "execution_count": null,
   "metadata": {},
   "outputs": [],
   "source": []
  }
 ],
 "metadata": {
  "kernelspec": {
   "display_name": "Python 3",
   "language": "python",
   "name": "python3"
  },
  "language_info": {
   "codemirror_mode": {
    "name": "ipython",
    "version": 3
   },
   "file_extension": ".py",
   "mimetype": "text/x-python",
   "name": "python",
   "nbconvert_exporter": "python",
   "pygments_lexer": "ipython3",
   "version": "3.8.1"
  }
 },
 "nbformat": 4,
 "nbformat_minor": 2
}
