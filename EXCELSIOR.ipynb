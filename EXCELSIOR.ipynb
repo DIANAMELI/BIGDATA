{
 "cells": [
  {
   "cell_type": "code",
   "execution_count": 1,
   "metadata": {},
   "outputs": [],
   "source": [
    "from urllib.request import urlopen\n"
   ]
  },
  {
   "cell_type": "code",
   "execution_count": 2,
   "metadata": {},
   "outputs": [],
   "source": [
    "from urllib.error import HTTPError\n"
   ]
  },
  {
   "cell_type": "code",
   "execution_count": 3,
   "metadata": {},
   "outputs": [],
   "source": [
    "from bs4 import BeautifulSoup\n"
   ]
  },
  {
   "cell_type": "code",
   "execution_count": 4,
   "metadata": {},
   "outputs": [
    {
     "name": "stdout",
     "output_type": "stream",
     "text": [
      "<title>Excélsior | El periódico de la vida nacional</title>\n"
     ]
    }
   ],
   "source": [
    "try:\n",
    "\n",
    "    html = urlopen(\"https://www.excelsior.com.mx/\")\n",
    "    \n",
    "except HTTPError as e:\n",
    "\n",
    "    print(e)\n",
    "\n",
    "else:\n",
    "\n",
    "    res = BeautifulSoup(html.read(),\"html\")\n",
    "\n",
    "    print(res.title)"
   ]
  },
  {
   "cell_type": "code",
   "execution_count": 27,
   "metadata": {},
   "outputs": [],
   "source": [
    "tags = res.findAll(\"h4\", {\"class\": \"imx-titulo-nota-seleccion-dia dblock \"})\n"
   ]
  },
  {
   "cell_type": "code",
   "execution_count": 30,
   "metadata": {},
   "outputs": [],
   "source": [
    "from urllib.request import urlopen\n",
    "\n",
    "from urllib.error import HTTPError\n",
    "\n",
    "from urllib.error import URLError\n",
    "\n",
    "from bs4 import BeautifulSoup\n",
    "\n",
    "try:\n",
    "\n",
    "    html = urlopen(\"https://www.excelsior.com.mx/\")\n",
    "\n",
    "except HTTPError as e:\n",
    "\n",
    "    print(e)\n",
    "\n",
    "except URLError:\n",
    "\n",
    "    print(\"Server down or incorrect domain\")\n",
    "\n",
    "else:\n",
    "\n",
    "    res = BeautifulSoup(html.read(),\"html\")\n",
    "\n",
    "    tags = res.findAll(\"h4\", {\"class\":  \"imx-titulo-nota-seleccion-dia dblock\"})"
   ]
  },
  {
   "cell_type": "code",
   "execution_count": 31,
   "metadata": {},
   "outputs": [
    {
     "name": "stdout",
     "output_type": "stream",
     "text": [
      "\n",
      "                            Estas son las flores que debes regalar a tu mamá, según su signo zodiacal                        \n",
      "\n",
      "                            Google Lens te ayuda a copiar texto a mano y pasarlo a la compu                        \n",
      "\n",
      "                            La extraña forma de comer aguacate en Vietnam, viral en redes                        \n",
      "\n",
      "                            Ty muere a los 47 años como consecuencia del coronavirus                        \n",
      "\n",
      "                            Descartan presencia de avispón gigante asiático en México                        \n",
      "\n",
      "                            ¿Cómo extender la señal de Wifi en mi casa?                        \n",
      "\n",
      "                            Hasta que se contagie 80% de la población, pandemia estará controlada                        \n",
      "\n",
      "                            Planeta desaparece misteriosamente, la NASA no sabe qué pasó                        \n",
      "\n",
      "                            Hombre rechaza hospitalización por Covid-19 y muere                        \n",
      "\n",
      "                            ¿Cómo hacer helado casero? Aquí te enseñamos recetas de varios sabores                        \n",
      "\n",
      "                            El obsequio que dejó Kobe Bryant para su esposa                        \n",
      "\n",
      "                            J Balvin organiza fiesta en plena cuarentena y fans lo critican                        \n"
     ]
    }
   ],
   "source": [
    "for tag in tags:\n",
    "\n",
    "        print(tag.getText())\n"
   ]
  },
  {
   "cell_type": "code",
   "execution_count": 32,
   "metadata": {},
   "outputs": [],
   "source": [
    "import pandas as pd"
   ]
  },
  {
   "cell_type": "code",
   "execution_count": 37,
   "metadata": {},
   "outputs": [
    {
     "data": {
      "text/html": [
       "<div>\n",
       "<style scoped>\n",
       "    .dataframe tbody tr th:only-of-type {\n",
       "        vertical-align: middle;\n",
       "    }\n",
       "\n",
       "    .dataframe tbody tr th {\n",
       "        vertical-align: top;\n",
       "    }\n",
       "\n",
       "    .dataframe thead th {\n",
       "        text-align: right;\n",
       "    }\n",
       "</style>\n",
       "<table border=\"1\" class=\"dataframe\">\n",
       "  <thead>\n",
       "    <tr style=\"text-align: right;\">\n",
       "      <th></th>\n",
       "      <th>noticias</th>\n",
       "    </tr>\n",
       "  </thead>\n",
       "  <tbody>\n",
       "    <tr>\n",
       "      <th>0</th>\n",
       "      <td>[\\n                            Estas son las f...</td>\n",
       "    </tr>\n",
       "    <tr>\n",
       "      <th>1</th>\n",
       "      <td>[\\n                            Google Lens te ...</td>\n",
       "    </tr>\n",
       "    <tr>\n",
       "      <th>2</th>\n",
       "      <td>[\\n                            La extraña form...</td>\n",
       "    </tr>\n",
       "    <tr>\n",
       "      <th>3</th>\n",
       "      <td>[\\n                            Ty muere a los ...</td>\n",
       "    </tr>\n",
       "    <tr>\n",
       "      <th>4</th>\n",
       "      <td>[\\n                            Descartan prese...</td>\n",
       "    </tr>\n",
       "    <tr>\n",
       "      <th>5</th>\n",
       "      <td>[\\n                            ¿Cómo extender ...</td>\n",
       "    </tr>\n",
       "    <tr>\n",
       "      <th>6</th>\n",
       "      <td>[\\n                            Hasta que se co...</td>\n",
       "    </tr>\n",
       "    <tr>\n",
       "      <th>7</th>\n",
       "      <td>[\\n                            Planeta desapar...</td>\n",
       "    </tr>\n",
       "    <tr>\n",
       "      <th>8</th>\n",
       "      <td>[\\n                            Hombre rechaza ...</td>\n",
       "    </tr>\n",
       "    <tr>\n",
       "      <th>9</th>\n",
       "      <td>[\\n                            ¿Cómo hacer hel...</td>\n",
       "    </tr>\n",
       "    <tr>\n",
       "      <th>10</th>\n",
       "      <td>[\\n                            El obsequio que...</td>\n",
       "    </tr>\n",
       "    <tr>\n",
       "      <th>11</th>\n",
       "      <td>[\\n                            J Balvin organi...</td>\n",
       "    </tr>\n",
       "  </tbody>\n",
       "</table>\n",
       "</div>"
      ],
      "text/plain": [
       "                                             noticias\n",
       "0   [\\n                            Estas son las f...\n",
       "1   [\\n                            Google Lens te ...\n",
       "2   [\\n                            La extraña form...\n",
       "3   [\\n                            Ty muere a los ...\n",
       "4   [\\n                            Descartan prese...\n",
       "5   [\\n                            ¿Cómo extender ...\n",
       "6   [\\n                            Hasta que se co...\n",
       "7   [\\n                            Planeta desapar...\n",
       "8   [\\n                            Hombre rechaza ...\n",
       "9   [\\n                            ¿Cómo hacer hel...\n",
       "10  [\\n                            El obsequio que...\n",
       "11  [\\n                            J Balvin organi..."
      ]
     },
     "execution_count": 37,
     "metadata": {},
     "output_type": "execute_result"
    }
   ],
   "source": [
    "weather = pd.DataFrame({\n",
    "    \"noticias\": tags,\n",
    "   \n",
    "})\n",
    "weather"
   ]
  },
  {
   "cell_type": "code",
   "execution_count": 38,
   "metadata": {},
   "outputs": [],
   "source": [
    "df = pd.DataFrame({'noticias': ['Estas son las flores que debes regalar a tu mamá, según su signo zodiacal','Google Lens te ayuda a copiar texto a mano y pasarlo a la compu', 'La extraña forma de comer aguacate en Vietnam, viral en redes', 'Ty muere a los 47 años como consecuencia del coronavirus',' Descartan presencia de avispón gigante asiático en México ','¿Cómo extender la señal de Wifi en mi casa?',' Hasta que se contagie 80% de la población, pandemia estará controlada',' Planeta desaparece misteriosamente, la NASA no sabe qué pasó','Hombre rechaza hospitalización por Covid-19 y muere','¿Cómo hacer helado casero? Aquí te enseñamos recetas de varios sabores',' El obsequio que dejó Kobe Bryant para su esposa','J Balvin organiza fiesta en plena cuarentena y fans lo critican ']})               "
   ]
  },
  {
   "cell_type": "code",
   "execution_count": 39,
   "metadata": {},
   "outputs": [
    {
     "name": "stdout",
     "output_type": "stream",
     "text": [
      "                                             noticias\n",
      "0   Estas son las flores que debes regalar a tu ma...\n",
      "1   Google Lens te ayuda a copiar texto a mano y p...\n",
      "2   La extraña forma de comer aguacate en Vietnam,...\n",
      "3   Ty muere a los 47 años como consecuencia del c...\n",
      "4    Descartan presencia de avispón gigante asiáti...\n",
      "5         ¿Cómo extender la señal de Wifi en mi casa?\n",
      "6    Hasta que se contagie 80% de la población, pa...\n",
      "7    Planeta desaparece misteriosamente, la NASA n...\n",
      "8   Hombre rechaza hospitalización por Covid-19 y ...\n",
      "9   ¿Cómo hacer helado casero? Aquí te enseñamos r...\n",
      "10    El obsequio que dejó Kobe Bryant para su esposa\n",
      "11  J Balvin organiza fiesta en plena cuarentena y...\n"
     ]
    }
   ],
   "source": [
    "print(df)"
   ]
  },
  {
   "cell_type": "code",
   "execution_count": 40,
   "metadata": {},
   "outputs": [
    {
     "data": {
      "text/html": [
       "<div>\n",
       "<style scoped>\n",
       "    .dataframe tbody tr th:only-of-type {\n",
       "        vertical-align: middle;\n",
       "    }\n",
       "\n",
       "    .dataframe tbody tr th {\n",
       "        vertical-align: top;\n",
       "    }\n",
       "\n",
       "    .dataframe thead th {\n",
       "        text-align: right;\n",
       "    }\n",
       "</style>\n",
       "<table border=\"1\" class=\"dataframe\">\n",
       "  <thead>\n",
       "    <tr style=\"text-align: right;\">\n",
       "      <th></th>\n",
       "      <th>noticias</th>\n",
       "    </tr>\n",
       "  </thead>\n",
       "  <tbody>\n",
       "    <tr>\n",
       "      <th>0</th>\n",
       "      <td>Estas son las flores que debes regalar a tu ma...</td>\n",
       "    </tr>\n",
       "    <tr>\n",
       "      <th>1</th>\n",
       "      <td>Google Lens te ayuda a copiar texto a mano y p...</td>\n",
       "    </tr>\n",
       "    <tr>\n",
       "      <th>2</th>\n",
       "      <td>La extraña forma de comer aguacate en Vietnam,...</td>\n",
       "    </tr>\n",
       "    <tr>\n",
       "      <th>3</th>\n",
       "      <td>Ty muere a los 47 años como consecuencia del c...</td>\n",
       "    </tr>\n",
       "    <tr>\n",
       "      <th>4</th>\n",
       "      <td>Descartan presencia de avispón gigante asiáti...</td>\n",
       "    </tr>\n",
       "    <tr>\n",
       "      <th>5</th>\n",
       "      <td>¿Cómo extender la señal de Wifi en mi casa?</td>\n",
       "    </tr>\n",
       "    <tr>\n",
       "      <th>6</th>\n",
       "      <td>Hasta que se contagie 80% de la población, pa...</td>\n",
       "    </tr>\n",
       "    <tr>\n",
       "      <th>7</th>\n",
       "      <td>Planeta desaparece misteriosamente, la NASA n...</td>\n",
       "    </tr>\n",
       "    <tr>\n",
       "      <th>8</th>\n",
       "      <td>Hombre rechaza hospitalización por Covid-19 y ...</td>\n",
       "    </tr>\n",
       "    <tr>\n",
       "      <th>9</th>\n",
       "      <td>¿Cómo hacer helado casero? Aquí te enseñamos r...</td>\n",
       "    </tr>\n",
       "    <tr>\n",
       "      <th>10</th>\n",
       "      <td>El obsequio que dejó Kobe Bryant para su esposa</td>\n",
       "    </tr>\n",
       "    <tr>\n",
       "      <th>11</th>\n",
       "      <td>J Balvin organiza fiesta en plena cuarentena y...</td>\n",
       "    </tr>\n",
       "  </tbody>\n",
       "</table>\n",
       "</div>"
      ],
      "text/plain": [
       "                                             noticias\n",
       "0   Estas son las flores que debes regalar a tu ma...\n",
       "1   Google Lens te ayuda a copiar texto a mano y p...\n",
       "2   La extraña forma de comer aguacate en Vietnam,...\n",
       "3   Ty muere a los 47 años como consecuencia del c...\n",
       "4    Descartan presencia de avispón gigante asiáti...\n",
       "5         ¿Cómo extender la señal de Wifi en mi casa?\n",
       "6    Hasta que se contagie 80% de la población, pa...\n",
       "7    Planeta desaparece misteriosamente, la NASA n...\n",
       "8   Hombre rechaza hospitalización por Covid-19 y ...\n",
       "9   ¿Cómo hacer helado casero? Aquí te enseñamos r...\n",
       "10    El obsequio que dejó Kobe Bryant para su esposa\n",
       "11  J Balvin organiza fiesta en plena cuarentena y..."
      ]
     },
     "execution_count": 40,
     "metadata": {},
     "output_type": "execute_result"
    }
   ],
   "source": [
    "weather = pd.DataFrame({\n",
    "    \"noticias\":['Estas son las flores que debes regalar a tu mamá, según su signo zodiacal','Google Lens te ayuda a copiar texto a mano y pasarlo a la compu', 'La extraña forma de comer aguacate en Vietnam, viral en redes', 'Ty muere a los 47 años como consecuencia del coronavirus',' Descartan presencia de avispón gigante asiático en México ','¿Cómo extender la señal de Wifi en mi casa?',' Hasta que se contagie 80% de la población, pandemia estará controlada',' Planeta desaparece misteriosamente, la NASA no sabe qué pasó','Hombre rechaza hospitalización por Covid-19 y muere','¿Cómo hacer helado casero? Aquí te enseñamos recetas de varios sabores',' El obsequio que dejó Kobe Bryant para su esposa','J Balvin organiza fiesta en plena cuarentena y fans lo critican ' ]\n",
    "   \n",
    "})\n",
    "weather"
   ]
  }
 ],
 "metadata": {
  "kernelspec": {
   "display_name": "Python 3",
   "language": "python",
   "name": "python3"
  },
  "language_info": {
   "codemirror_mode": {
    "name": "ipython",
    "version": 3
   },
   "file_extension": ".py",
   "mimetype": "text/x-python",
   "name": "python",
   "nbconvert_exporter": "python",
   "pygments_lexer": "ipython3",
   "version": "3.8.1"
  }
 },
 "nbformat": 4,
 "nbformat_minor": 2
}
