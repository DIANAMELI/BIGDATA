{
 "cells": [
  {
   "cell_type": "code",
   "execution_count": 40,
   "metadata": {},
   "outputs": [],
   "source": [
    "from urllib.request import urlopen\n"
   ]
  },
  {
   "cell_type": "code",
   "execution_count": 41,
   "metadata": {},
   "outputs": [],
   "source": [
    "from urllib.error import HTTPError\n"
   ]
  },
  {
   "cell_type": "code",
   "execution_count": 42,
   "metadata": {},
   "outputs": [],
   "source": [
    "from bs4 import BeautifulSoup\n"
   ]
  },
  {
   "cell_type": "code",
   "execution_count": 43,
   "metadata": {},
   "outputs": [
    {
     "name": "stdout",
     "output_type": "stream",
     "text": [
      "<title>Últimas noticias de Argentina y el mundo - LA NACION</title>\n"
     ]
    }
   ],
   "source": [
    "try:\n",
    "\n",
    "    html = urlopen(\"https://www.lanacion.com.ar/\")\n",
    "    \n",
    "except HTTPError as e:\n",
    "\n",
    "    print(e)\n",
    "\n",
    "else:\n",
    "\n",
    "    res = BeautifulSoup(html.read(),\"html\")\n",
    "\n",
    "    print(res.title)"
   ]
  },
  {
   "cell_type": "code",
   "execution_count": 116,
   "metadata": {},
   "outputs": [],
   "source": [
    "tags = res.findAll(\"h2\", {\"class\": \"com-title\"})\n"
   ]
  },
  {
   "cell_type": "code",
   "execution_count": 117,
   "metadata": {},
   "outputs": [],
   "source": [
    "from urllib.request import urlopen\n",
    "\n",
    "from urllib.error import HTTPError\n",
    "\n",
    "from urllib.error import URLError\n",
    "\n",
    "from bs4 import BeautifulSoup\n",
    "\n",
    "try:\n",
    "\n",
    "    html = urlopen(\"https://www.lanacion.com.ar/\")\n",
    "\n",
    "except HTTPError as e:\n",
    "\n",
    "    print(e)\n",
    "\n",
    "except URLError:\n",
    "\n",
    "    print(\"Server down or incorrect domain\")\n",
    "\n",
    "else:\n",
    "\n",
    "    res = BeautifulSoup(html.read(),\"html\")\n",
    "\n",
    "    tags = res.findAll(\"h2\", {\"class\": \"com-title\"})\n",
    "    \n",
    "\n",
    "    "
   ]
  },
  {
   "cell_type": "code",
   "execution_count": 118,
   "metadata": {},
   "outputs": [
    {
     "name": "stdout",
     "output_type": "stream",
     "text": [
      "\n",
      "\n",
      "\n",
      "Lavandina y cloro.\r\n",
      "        Cómo es la titánica desinfección en la Villa 31\r\n",
      "    \n",
      "\n",
      "\n",
      "\n",
      "\n",
      "Senado.\r\n",
      "        Duro cruce entre Caserio y Lousteau por un proyecto de Ganancias\r\n",
      "    \n",
      "\n",
      "\n",
      "\n",
      "\n",
      "Shoppings.\r\n",
      "        Cómo es el modelo que proponen para volver a funcionar\r\n",
      "    \n",
      "\n",
      "\n",
      "\n",
      "\n",
      "Trabajo.\r\n",
      "        Se aceleran los retiros voluntarios por la prohibición de despedir\r\n",
      "    \n",
      "\n"
     ]
    }
   ],
   "source": [
    "for tag in tags:\n",
    "\n",
    "        print(tag.getText())"
   ]
  },
  {
   "cell_type": "code",
   "execution_count": 119,
   "metadata": {},
   "outputs": [],
   "source": [
    "import pandas as pd"
   ]
  },
  {
   "cell_type": "code",
   "execution_count": 121,
   "metadata": {},
   "outputs": [
    {
     "data": {
      "text/html": [
       "<div>\n",
       "<style scoped>\n",
       "    .dataframe tbody tr th:only-of-type {\n",
       "        vertical-align: middle;\n",
       "    }\n",
       "\n",
       "    .dataframe tbody tr th {\n",
       "        vertical-align: top;\n",
       "    }\n",
       "\n",
       "    .dataframe thead th {\n",
       "        text-align: right;\n",
       "    }\n",
       "</style>\n",
       "<table border=\"1\" class=\"dataframe\">\n",
       "  <thead>\n",
       "    <tr style=\"text-align: right;\">\n",
       "      <th></th>\n",
       "      <th>noticias</th>\n",
       "    </tr>\n",
       "  </thead>\n",
       "  <tbody>\n",
       "    <tr>\n",
       "      <th>0</th>\n",
       "      <td>Cómo es la titánica desinfección en la Villa 31</td>\n",
       "    </tr>\n",
       "    <tr>\n",
       "      <th>1</th>\n",
       "      <td>Duro cruce entre Caserio y Lousteau por un pro...</td>\n",
       "    </tr>\n",
       "    <tr>\n",
       "      <th>2</th>\n",
       "      <td>Cómo es el modelo que proponen para volver a f...</td>\n",
       "    </tr>\n",
       "    <tr>\n",
       "      <th>3</th>\n",
       "      <td>Se aceleran los retiros voluntarios por la pr...</td>\n",
       "    </tr>\n",
       "  </tbody>\n",
       "</table>\n",
       "</div>"
      ],
      "text/plain": [
       "                                            noticias\n",
       "0    Cómo es la titánica desinfección en la Villa 31\n",
       "1  Duro cruce entre Caserio y Lousteau por un pro...\n",
       "2  Cómo es el modelo que proponen para volver a f...\n",
       "3   Se aceleran los retiros voluntarios por la pr..."
      ]
     },
     "execution_count": 121,
     "metadata": {},
     "output_type": "execute_result"
    }
   ],
   "source": [
    "weather = pd.DataFrame({\n",
    "    \"noticias\":['Cómo es la titánica desinfección en la Villa 31','Duro cruce entre Caserio y Lousteau por un proyecto de Ganancias',  'Cómo es el modelo que proponen para volver a funcionar ',' Se aceleran los retiros voluntarios por la prohibición de despedir'\n",
    " ,]\n",
    "   \n",
    "})\n",
    "weather"
   ]
  },
  {
   "cell_type": "code",
   "execution_count": null,
   "metadata": {},
   "outputs": [],
   "source": []
  }
 ],
 "metadata": {
  "kernelspec": {
   "display_name": "Python 3",
   "language": "python",
   "name": "python3"
  },
  "language_info": {
   "codemirror_mode": {
    "name": "ipython",
    "version": 3
   },
   "file_extension": ".py",
   "mimetype": "text/x-python",
   "name": "python",
   "nbconvert_exporter": "python",
   "pygments_lexer": "ipython3",
   "version": "3.8.1"
  }
 },
 "nbformat": 4,
 "nbformat_minor": 2
}
